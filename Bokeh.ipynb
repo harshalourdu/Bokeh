{
 "cells": [
  {
   "cell_type": "markdown",
   "metadata": {},
   "source": [
    "# Q1. How can you create a Bokeh plot using Python code?\n",
    "To create a Bokeh plot in Python, follow these steps:\n",
    "\n",
    "Import Bokeh modules: Import necessary classes and functions from the Bokeh library.\n",
    "\n",
    "Create data: Define the data you want to plot (e.g., using lists, NumPy arrays, or Pandas DataFrames).\n",
    "\n",
    "Create a figure: Use figure() to create a new plot figure.\n",
    "\n",
    "Add glyphs: Add visual elements (e.g., scatter, line, etc.) to the plot.\n",
    "\n",
    "Show the plot: Use show() to display the plot in a browser."
   ]
  },
  {
   "cell_type": "code",
   "execution_count": 3,
   "metadata": {},
   "outputs": [],
   "source": [
    "from bokeh.plotting import figure, show\n",
    "\n",
    "# Create a new plot\n",
    "p = figure(title=\"Simple Bokeh Plot\", x_axis_label='x', y_axis_label='y')\n",
    "\n",
    "# Add a line glyph (a simple plot)\n",
    "x = [1, 2, 3, 4, 5]\n",
    "y = [6, 7, 2, 4, 5]\n",
    "p.line(x, y, legend_label=\"Line\", line_width=2)\n",
    "\n",
    "# Show the plot in a browser\n",
    "show(p)\n"
   ]
  },
  {
   "cell_type": "code",
   "execution_count": 4,
   "metadata": {},
   "outputs": [
    {
     "name": "stderr",
     "output_type": "stream",
     "text": [
      "BokehDeprecationWarning: 'circle() method with size value' was deprecated in Bokeh 3.4.0 and will be removed, use 'scatter(size=...) instead' instead.\n"
     ]
    }
   ],
   "source": [
    "\n",
    "# 2.\n",
    "from bokeh.plotting import figure, show\n",
    "\n",
    "# Create a new plot\n",
    "p = figure(title=\"Glyph Example\", x_axis_label='x', y_axis_label='y')\n",
    "\n",
    "# Define data\n",
    "x = [1, 2, 3, 4, 5]\n",
    "y = [6, 7, 2, 4, 5]\n",
    "\n",
    "# Add a circle glyph\n",
    "p.circle(x, y, size=10, color=\"red\", alpha=0.5, legend_label=\"Red Circles\")\n",
    "\n",
    "# Add a line glyph\n",
    "p.line(x, y, line_width=2, legend_label=\"Line\")\n",
    "\n",
    "# Show the plot\n",
    "show(p)\n"
   ]
  },
  {
   "cell_type": "code",
   "execution_count": 5,
   "metadata": {},
   "outputs": [
    {
     "name": "stderr",
     "output_type": "stream",
     "text": [
      "BokehDeprecationWarning: 'circle() method with size value' was deprecated in Bokeh 3.4.0 and will be removed, use 'scatter(size=...) instead' instead.\n"
     ]
    }
   ],
   "source": [
    "# 3. \n",
    "\n",
    "from bokeh.plotting import figure, show\n",
    "\n",
    "# Create a new plot with custom title and axes labels\n",
    "p = figure(title=\"Customized Plot\", x_axis_label='X Axis', y_axis_label='Y Axis')\n",
    "\n",
    "# Define data\n",
    "x = [1, 2, 3, 4, 5]\n",
    "y = [6, 7, 2, 4, 5]\n",
    "\n",
    "# Add a circle glyph with customized legend\n",
    "p.circle(x, y, size=10, color=\"blue\", alpha=0.6, legend_label=\"Blue Circles\")\n",
    "\n",
    "# Customize the legend\n",
    "p.legend.location = \"top_left\"\n",
    "p.legend.title = \"Legend Title\"\n",
    "p.legend.label_text_font_size = \"12pt\"\n",
    "\n",
    "# Show the plot\n",
    "show(p)\n"
   ]
  },
  {
   "cell_type": "code",
   "execution_count": 6,
   "metadata": {},
   "outputs": [],
   "source": [
    "# 4.\n",
    "\n",
    "from bokeh.plotting import figure, curdoc\n",
    "from bokeh.models import Slider\n",
    "from bokeh.layouts import column\n",
    "\n",
    "# Create a figure\n",
    "p = figure(title=\"Interactive Plot\", x_axis_label='X', y_axis_label='Y')\n",
    "\n",
    "# Add a line glyph\n",
    "x = [1, 2, 3, 4, 5]\n",
    "y = [6, 7, 2, 4, 5]\n",
    "line = p.line(x, y, line_width=2)\n",
    "\n",
    "# Create a slider for interactivity\n",
    "slider = Slider(start=1, end=10, value=1, step=0.1, title=\"Multiplier\")\n",
    "\n",
    "# Define a callback function\n",
    "def update(attr, old_range, new_range):\n",
    "    multiplier = slider.value\n",
    "    y_new = [val * multiplier for val in y]\n",
    "    line.data_source.data['y'] = y_new\n",
    "\n",
    "# Add the callback to the slider\n",
    "slider.on_change('value', update)\n",
    "\n",
    "# Layout the plot and slider\n",
    "layout = column(p, slider)\n",
    "\n",
    "# Add to the current document\n",
    "curdoc().add_root(layout)\n"
   ]
  },
  {
   "cell_type": "code",
   "execution_count": 8,
   "metadata": {},
   "outputs": [
    {
     "name": "stdout",
     "output_type": "stream",
     "text": [
      " * Serving Flask app '__main__'\n",
      " * Debug mode: on\n"
     ]
    },
    {
     "name": "stderr",
     "output_type": "stream",
     "text": [
      "WARNING: This is a development server. Do not use it in a production deployment. Use a production WSGI server instead.\n",
      " * Running on http://127.0.0.1:5000\n",
      "Press CTRL+C to quit\n",
      " * Restarting with stat\n"
     ]
    },
    {
     "ename": "SystemExit",
     "evalue": "1",
     "output_type": "error",
     "traceback": [
      "An exception has occurred, use %tb to see the full traceback.\n",
      "\u001b[1;31mSystemExit\u001b[0m\u001b[1;31m:\u001b[0m 1\n"
     ]
    },
    {
     "name": "stderr",
     "output_type": "stream",
     "text": [
      "C:\\Users\\adith\\AppData\\Local\\Packages\\PythonSoftwareFoundation.Python.3.11_qbz5n2kfra8p0\\LocalCache\\local-packages\\Python311\\site-packages\\IPython\\core\\interactiveshell.py:3585: UserWarning: To exit: use 'exit', 'quit', or Ctrl-D.\n",
      "  warn(\"To exit: use 'exit', 'quit', or Ctrl-D.\", stacklevel=1)\n"
     ]
    }
   ],
   "source": [
    "# 5. \n",
    "\n",
    "from flask import Flask, render_template\n",
    "from bokeh.plotting import figure\n",
    "from bokeh.embed import components\n",
    "\n",
    "app = Flask(__name__)\n",
    "\n",
    "@app.route('/')\n",
    "def index():\n",
    "    # Create a plot\n",
    "    p = figure(title=\"Bokeh Plot with Flask\", x_axis_label='x', y_axis_label='y')\n",
    "    x = [1, 2, 3, 4, 5]\n",
    "    y = [6, 7, 2, 4, 5]\n",
    "    p.line(x, y, line_width=2)\n",
    "\n",
    "    # Embed the plot into HTML\n",
    "    script, div = components(p)\n",
    "    return render_template(\"index.html\", script=script, div=div)\n",
    "\n",
    "if __name__ == \"__main__\":\n",
    "    app.run(debug=True)\n"
   ]
  },
  {
   "cell_type": "code",
   "execution_count": null,
   "metadata": {},
   "outputs": [],
   "source": []
  }
 ],
 "metadata": {
  "kernelspec": {
   "display_name": "Python 3",
   "language": "python",
   "name": "python3"
  },
  "language_info": {
   "codemirror_mode": {
    "name": "ipython",
    "version": 3
   },
   "file_extension": ".py",
   "mimetype": "text/x-python",
   "name": "python",
   "nbconvert_exporter": "python",
   "pygments_lexer": "ipython3",
   "version": "3.11.9"
  }
 },
 "nbformat": 4,
 "nbformat_minor": 2
}
